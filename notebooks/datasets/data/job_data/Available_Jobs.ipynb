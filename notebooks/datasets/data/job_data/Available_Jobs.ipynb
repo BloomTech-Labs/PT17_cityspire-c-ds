{
  "nbformat": 4,
  "nbformat_minor": 0,
  "metadata": {
    "colab": {
      "name": "Available_Jobs.ipynb",
      "provenance": []
    },
    "kernelspec": {
      "name": "python3",
      "display_name": "Python 3"
    },
    "language_info": {
      "name": "python"
    }
  },
  "cells": [
    {
      "cell_type": "code",
      "metadata": {
        "id": "j4dZ-CxMH4ZK"
      },
      "source": [
        "import pandas as pd\n",
        "import numpy as np\n",
        "import psycopg2"
      ],
      "execution_count": 45,
      "outputs": []
    },
    {
      "cell_type": "code",
      "metadata": {
        "id": "JwA4SPlEIp6f"
      },
      "source": [
        "# connection credentials\n",
        "conn = psycopg2.connect(\n",
        "    user = \"postgres\",\n",
        "    password = \"0A96jbvaDJk%\",\n",
        "    host = \"database-cityspire-c.c2uishzxxikl.us-east-1.rds.amazonaws.com\",\n",
        "    port = \"5432\",\n",
        "    database = \"postgres\"\n",
        ")\n",
        "\n",
        "sql = \"SELECT * FROM master_jobs_table\""
      ],
      "execution_count": 46,
      "outputs": []
    },
    {
      "cell_type": "code",
      "metadata": {
        "colab": {
          "base_uri": "https://localhost:8080/",
          "height": 204
        },
        "id": "rMI2I-31Ivvo",
        "outputId": "00d72e3a-aad4-47b3-e1f5-42ee1151eb28"
      },
      "source": [
        "# get dataset from postgresql db\n",
        "jobs_df = pd.read_sql(sql, conn)\n",
        "jobs_df.head()"
      ],
      "execution_count": 47,
      "outputs": [
        {
          "output_type": "execute_result",
          "data": {
            "text/html": [
              "<div>\n",
              "<style scoped>\n",
              "    .dataframe tbody tr th:only-of-type {\n",
              "        vertical-align: middle;\n",
              "    }\n",
              "\n",
              "    .dataframe tbody tr th {\n",
              "        vertical-align: top;\n",
              "    }\n",
              "\n",
              "    .dataframe thead th {\n",
              "        text-align: right;\n",
              "    }\n",
              "</style>\n",
              "<table border=\"1\" class=\"dataframe\">\n",
              "  <thead>\n",
              "    <tr style=\"text-align: right;\">\n",
              "      <th></th>\n",
              "      <th>index</th>\n",
              "      <th>city_state</th>\n",
              "      <th>title</th>\n",
              "      <th>company</th>\n",
              "      <th>salary</th>\n",
              "      <th>summary</th>\n",
              "    </tr>\n",
              "  </thead>\n",
              "  <tbody>\n",
              "    <tr>\n",
              "      <th>0</th>\n",
              "      <td>0</td>\n",
              "      <td>Albany, NY</td>\n",
              "      <td>Find jobs with Flexible Hours!</td>\n",
              "      <td>Indeed Gigs</td>\n",
              "      <td></td>\n",
              "      <td>Whether it’s hiring for online work from home,...</td>\n",
              "    </tr>\n",
              "    <tr>\n",
              "      <th>1</th>\n",
              "      <td>1</td>\n",
              "      <td>Albany, NY</td>\n",
              "      <td>Local Hire (Customer Representative - Non-Medi...</td>\n",
              "      <td>US Department of Homeland Security</td>\n",
              "      <td>$16.08 - $18.58 an hour</td>\n",
              "      <td>Experience refers to paid and unpaid experienc...</td>\n",
              "    </tr>\n",
              "    <tr>\n",
              "      <th>2</th>\n",
              "      <td>2</td>\n",
              "      <td>Albany, NY</td>\n",
              "      <td>Amazon Warehouse - Night Shifts, Full-time</td>\n",
              "      <td>Amazon Workforce Staffing</td>\n",
              "      <td>$15.20 an hour</td>\n",
              "      <td>The base pay for this role is $15.20/hr.Get fu...</td>\n",
              "    </tr>\n",
              "    <tr>\n",
              "      <th>3</th>\n",
              "      <td>3</td>\n",
              "      <td>Albany, NY</td>\n",
              "      <td>Bookseller - Part-Time</td>\n",
              "      <td>Barnes &amp; Noble</td>\n",
              "      <td></td>\n",
              "      <td>Ensure all customer transactions are processed...</td>\n",
              "    </tr>\n",
              "    <tr>\n",
              "      <th>4</th>\n",
              "      <td>4</td>\n",
              "      <td>Albany, NY</td>\n",
              "      <td>Crew</td>\n",
              "      <td>Trader Joe's</td>\n",
              "      <td>$16 - $18 an hour</td>\n",
              "      <td>Operating the cash register in a fun and effic...</td>\n",
              "    </tr>\n",
              "  </tbody>\n",
              "</table>\n",
              "</div>"
            ],
            "text/plain": [
              "   index  ...                                            summary\n",
              "0      0  ...  Whether it’s hiring for online work from home,...\n",
              "1      1  ...  Experience refers to paid and unpaid experienc...\n",
              "2      2  ...  The base pay for this role is $15.20/hr.Get fu...\n",
              "3      3  ...  Ensure all customer transactions are processed...\n",
              "4      4  ...  Operating the cash register in a fun and effic...\n",
              "\n",
              "[5 rows x 6 columns]"
            ]
          },
          "metadata": {
            "tags": []
          },
          "execution_count": 47
        }
      ]
    },
    {
      "cell_type": "code",
      "metadata": {
        "colab": {
          "base_uri": "https://localhost:8080/"
        },
        "id": "_QZzQ3vlKtV2",
        "outputId": "65fe24c7-87ed-4c3b-f64c-38e6a882f571"
      },
      "source": [
        "jobs_df['title'][:10]"
      ],
      "execution_count": 48,
      "outputs": [
        {
          "output_type": "execute_result",
          "data": {
            "text/plain": [
              "0                       Find jobs with Flexible Hours!\n",
              "1    Local Hire (Customer Representative - Non-Medi...\n",
              "2           Amazon Warehouse - Night Shifts, Full-time\n",
              "3                               Bookseller - Part-Time\n",
              "4                                                 Crew\n",
              "5                                                     \n",
              "6    Entry Level Management - Interview Today - Cus...\n",
              "7                                        Office Helper\n",
              "8               Forklift Operator (FT/Rotating Shifts)\n",
              "9               Entry Level Clerk, downtown Albany, NY\n",
              "Name: title, dtype: object"
            ]
          },
          "metadata": {
            "tags": []
          },
          "execution_count": 48
        }
      ]
    },
    {
      "cell_type": "code",
      "metadata": {
        "id": "eJU8VlwmJkrz"
      },
      "source": [
        "def get_available_jobs(city_state):\n",
        "    cols = ['title','company','salary','summary']\n",
        "    avail_jobs = jobs_df.loc[jobs_df['city_state'] == city_state, cols].head(10)\n",
        "    return avail_jobs"
      ],
      "execution_count": 49,
      "outputs": []
    },
    {
      "cell_type": "code",
      "metadata": {
        "colab": {
          "base_uri": "https://localhost:8080/",
          "height": 359
        },
        "id": "hUCYySV3LPTV",
        "outputId": "fe69c3b5-c040-430c-8166-ce6c87d0aa5c"
      },
      "source": [
        "get_available_jobs('San Francisco, CA')"
      ],
      "execution_count": 50,
      "outputs": [
        {
          "output_type": "execute_result",
          "data": {
            "text/html": [
              "<div>\n",
              "<style scoped>\n",
              "    .dataframe tbody tr th:only-of-type {\n",
              "        vertical-align: middle;\n",
              "    }\n",
              "\n",
              "    .dataframe tbody tr th {\n",
              "        vertical-align: top;\n",
              "    }\n",
              "\n",
              "    .dataframe thead th {\n",
              "        text-align: right;\n",
              "    }\n",
              "</style>\n",
              "<table border=\"1\" class=\"dataframe\">\n",
              "  <thead>\n",
              "    <tr style=\"text-align: right;\">\n",
              "      <th></th>\n",
              "      <th>title</th>\n",
              "      <th>company</th>\n",
              "      <th>salary</th>\n",
              "      <th>summary</th>\n",
              "    </tr>\n",
              "  </thead>\n",
              "  <tbody>\n",
              "    <tr>\n",
              "      <th>117967</th>\n",
              "      <td>Find jobs with Flexible Hours!</td>\n",
              "      <td>Indeed Gigs</td>\n",
              "      <td></td>\n",
              "      <td>Whether it’s hiring for online work from home,...</td>\n",
              "    </tr>\n",
              "    <tr>\n",
              "      <th>117968</th>\n",
              "      <td>Tutor in San Francisco – All Subjects Available</td>\n",
              "      <td>Grade Potential Tutoring</td>\n",
              "      <td>$18 - $30 an hour</td>\n",
              "      <td>San Francisco families are in immediate need o...</td>\n",
              "    </tr>\n",
              "    <tr>\n",
              "      <th>117969</th>\n",
              "      <td>Records Clerk- Fleet Maintenance</td>\n",
              "      <td>West Valley Construction</td>\n",
              "      <td>$20 - $24 an hour</td>\n",
              "      <td>Valid CA driver’s license and good driving rec...</td>\n",
              "    </tr>\n",
              "    <tr>\n",
              "      <th>117970</th>\n",
              "      <td></td>\n",
              "      <td>Farm Fresh to You</td>\n",
              "      <td>$20 - $40 an hour</td>\n",
              "      <td>Employee discount of 40% off all organic fruit...</td>\n",
              "    </tr>\n",
              "    <tr>\n",
              "      <th>117971</th>\n",
              "      <td>Self Driving Vehicle Operator</td>\n",
              "      <td>Transdev</td>\n",
              "      <td>$23.00 - $26.50 an hour</td>\n",
              "      <td>Meets driver requirements, including driving r...</td>\n",
              "    </tr>\n",
              "    <tr>\n",
              "      <th>117972</th>\n",
              "      <td>Curatorial Assistant, Contemporary Art</td>\n",
              "      <td>SFMOMA</td>\n",
              "      <td>$26.06 an hour</td>\n",
              "      <td>Reporting to the Curator of Contemporary Art, ...</td>\n",
              "    </tr>\n",
              "    <tr>\n",
              "      <th>117973</th>\n",
              "      <td>Cashier</td>\n",
              "      <td>Chipotle</td>\n",
              "      <td></td>\n",
              "      <td>Free food (yes, really FREE).Tuition assistanc...</td>\n",
              "    </tr>\n",
              "    <tr>\n",
              "      <th>117974</th>\n",
              "      <td>Crew</td>\n",
              "      <td>AMC Theatres</td>\n",
              "      <td></td>\n",
              "      <td>Ability to effectively multitask as needed, in...</td>\n",
              "    </tr>\n",
              "    <tr>\n",
              "      <th>117975</th>\n",
              "      <td>Temporary Accounts Receivable and Student Acco...</td>\n",
              "      <td>San Francisco Art Institute</td>\n",
              "      <td>From $30 an hour</td>\n",
              "      <td>4 year college degree required, Bachelor’s deg...</td>\n",
              "    </tr>\n",
              "    <tr>\n",
              "      <th>117976</th>\n",
              "      <td>Installation Technician - $5,000 Sign-On Bonus</td>\n",
              "      <td>AT&amp;T</td>\n",
              "      <td>$30.40 an hour ++</td>\n",
              "      <td>Possess a state driver’s license.Possess a sta...</td>\n",
              "    </tr>\n",
              "  </tbody>\n",
              "</table>\n",
              "</div>"
            ],
            "text/plain": [
              "                                                    title  ...                                            summary\n",
              "117967                     Find jobs with Flexible Hours!  ...  Whether it’s hiring for online work from home,...\n",
              "117968    Tutor in San Francisco – All Subjects Available  ...  San Francisco families are in immediate need o...\n",
              "117969                   Records Clerk- Fleet Maintenance  ...  Valid CA driver’s license and good driving rec...\n",
              "117970                                                     ...  Employee discount of 40% off all organic fruit...\n",
              "117971                      Self Driving Vehicle Operator  ...  Meets driver requirements, including driving r...\n",
              "117972             Curatorial Assistant, Contemporary Art  ...  Reporting to the Curator of Contemporary Art, ...\n",
              "117973                                            Cashier  ...  Free food (yes, really FREE).Tuition assistanc...\n",
              "117974                                               Crew  ...  Ability to effectively multitask as needed, in...\n",
              "117975  Temporary Accounts Receivable and Student Acco...  ...  4 year college degree required, Bachelor’s deg...\n",
              "117976     Installation Technician - $5,000 Sign-On Bonus  ...  Possess a state driver’s license.Possess a sta...\n",
              "\n",
              "[10 rows x 4 columns]"
            ]
          },
          "metadata": {
            "tags": []
          },
          "execution_count": 50
        }
      ]
    },
    {
      "cell_type": "code",
      "metadata": {
        "colab": {
          "base_uri": "https://localhost:8080/"
        },
        "id": "j0XwYFtZSKy7",
        "outputId": "e34d1f1e-5453-4db1-9e9b-f0a7b1a07323"
      },
      "source": [
        "columns = [\"index\", \"city_state\", \"title\", \"company\", \"salary\", \"summary\"]\n",
        "jobs_df['metadata'] = jobs_df[columns].to_dict(orient='records')\n",
        "jobs_df['metadata'].head()"
      ],
      "execution_count": 51,
      "outputs": [
        {
          "output_type": "execute_result",
          "data": {
            "text/plain": [
              "0    {'index': 0, 'city_state': 'Albany, NY', 'titl...\n",
              "1    {'index': 1, 'city_state': 'Albany, NY', 'titl...\n",
              "2    {'index': 2, 'city_state': 'Albany, NY', 'titl...\n",
              "3    {'index': 3, 'city_state': 'Albany, NY', 'titl...\n",
              "4    {'index': 4, 'city_state': 'Albany, NY', 'titl...\n",
              "Name: metadata, dtype: object"
            ]
          },
          "metadata": {
            "tags": []
          },
          "execution_count": 51
        }
      ]
    },
    {
      "cell_type": "code",
      "metadata": {
        "id": "-DrClixkFFJ2"
      },
      "source": [
        "def get_available_jobs_dict(city_state):\n",
        "    cols = ['title','company','salary','summary', 'metadata']\n",
        "    avail_jobs = jobs_df.loc[jobs_df['city_state'] == city_state, cols].head(10).to_dict(orient='records')\n",
        "    return avail_jobs"
      ],
      "execution_count": 52,
      "outputs": []
    },
    {
      "cell_type": "code",
      "metadata": {
        "colab": {
          "base_uri": "https://localhost:8080/"
        },
        "id": "KwyHcDJLFaDh",
        "outputId": "d7f07cbd-9c5b-4e36-c6fe-5fd87bc845f8"
      },
      "source": [
        "get_available_jobs_dict('San Francisco, CA')"
      ],
      "execution_count": 53,
      "outputs": [
        {
          "output_type": "execute_result",
          "data": {
            "text/plain": [
              "[{'company': 'Indeed Gigs',\n",
              "  'metadata': {'city_state': 'San Francisco, CA',\n",
              "   'company': 'Indeed Gigs',\n",
              "   'index': 0,\n",
              "   'salary': '',\n",
              "   'summary': 'Whether it’s hiring for online work from home, part time, entry level or no experience jobs, you get to have flexible schedule!',\n",
              "   'title': 'Find jobs with Flexible Hours!'},\n",
              "  'salary': '',\n",
              "  'summary': 'Whether it’s hiring for online work from home, part time, entry level or no experience jobs, you get to have flexible schedule!',\n",
              "  'title': 'Find jobs with Flexible Hours!'},\n",
              " {'company': 'Grade Potential Tutoring',\n",
              "  'metadata': {'city_state': 'San Francisco, CA',\n",
              "   'company': 'Grade Potential Tutoring',\n",
              "   'index': 1,\n",
              "   'salary': '$18 - $30 an hour',\n",
              "   'summary': 'San Francisco families are in immediate need of part-time tutors for all subjects and grade levels.',\n",
              "   'title': 'Tutor in San Francisco – All Subjects Available'},\n",
              "  'salary': '$18 - $30 an hour',\n",
              "  'summary': 'San Francisco families are in immediate need of part-time tutors for all subjects and grade levels.',\n",
              "  'title': 'Tutor in San Francisco – All Subjects Available'},\n",
              " {'company': 'West Valley Construction',\n",
              "  'metadata': {'city_state': 'San Francisco, CA',\n",
              "   'company': 'West Valley Construction',\n",
              "   'index': 2,\n",
              "   'salary': '$20 - $24 an hour',\n",
              "   'summary': 'Valid CA driver’s license and good driving record.The overall purpose of the position is to maintain accurate records on fleet maintenance, Track licensing,…',\n",
              "   'title': 'Records Clerk- Fleet Maintenance'},\n",
              "  'salary': '$20 - $24 an hour',\n",
              "  'summary': 'Valid CA driver’s license and good driving record.The overall purpose of the position is to maintain accurate records on fleet maintenance, Track licensing,…',\n",
              "  'title': 'Records Clerk- Fleet Maintenance'},\n",
              " {'company': 'Farm Fresh to You',\n",
              "  'metadata': {'city_state': 'San Francisco, CA',\n",
              "   'company': 'Farm Fresh to You',\n",
              "   'index': 3,\n",
              "   'salary': '$20 - $40 an hour',\n",
              "   'summary': 'Employee discount of 40% off all organic fruits, vegetables & artisan farm products.Working knowledge of our food system, sustainability and environmental…',\n",
              "   'title': ''},\n",
              "  'salary': '$20 - $40 an hour',\n",
              "  'summary': 'Employee discount of 40% off all organic fruits, vegetables & artisan farm products.Working knowledge of our food system, sustainability and environmental…',\n",
              "  'title': ''},\n",
              " {'company': 'Transdev',\n",
              "  'metadata': {'city_state': 'San Francisco, CA',\n",
              "   'company': 'Transdev',\n",
              "   'index': 4,\n",
              "   'salary': '$23.00 - $26.50 an hour',\n",
              "   'summary': 'Meets driver requirements, including driving record and criminal history under applicable regulations and laws in the state(s) in which the self-driving vehicle…',\n",
              "   'title': 'Self Driving Vehicle Operator'},\n",
              "  'salary': '$23.00 - $26.50 an hour',\n",
              "  'summary': 'Meets driver requirements, including driving record and criminal history under applicable regulations and laws in the state(s) in which the self-driving vehicle…',\n",
              "  'title': 'Self Driving Vehicle Operator'},\n",
              " {'company': 'SFMOMA',\n",
              "  'metadata': {'city_state': 'San Francisco, CA',\n",
              "   'company': 'SFMOMA',\n",
              "   'index': 5,\n",
              "   'salary': '$26.06 an hour',\n",
              "   'summary': 'Reporting to the Curator of Contemporary Art, the Curatorial Assistant supports the research, development and interpretation of the permanent collection,…',\n",
              "   'title': 'Curatorial Assistant, Contemporary Art'},\n",
              "  'salary': '$26.06 an hour',\n",
              "  'summary': 'Reporting to the Curator of Contemporary Art, the Curatorial Assistant supports the research, development and interpretation of the permanent collection,…',\n",
              "  'title': 'Curatorial Assistant, Contemporary Art'},\n",
              " {'company': 'Chipotle',\n",
              "  'metadata': {'city_state': 'San Francisco, CA',\n",
              "   'company': 'Chipotle',\n",
              "   'index': 6,\n",
              "   'salary': '',\n",
              "   'summary': 'Free food (yes, really FREE).Tuition assistance (100% coverage for select degrees or up to $5,250/year).Medical, dental, and vision insurance.',\n",
              "   'title': 'Cashier'},\n",
              "  'salary': '',\n",
              "  'summary': 'Free food (yes, really FREE).Tuition assistance (100% coverage for select degrees or up to $5,250/year).Medical, dental, and vision insurance.',\n",
              "  'title': 'Cashier'},\n",
              " {'company': 'AMC Theatres',\n",
              "  'metadata': {'city_state': 'San Francisco, CA',\n",
              "   'company': 'AMC Theatres',\n",
              "   'index': 7,\n",
              "   'salary': '',\n",
              "   'summary': 'Ability to effectively multitask as needed, including but not limited to greeting guests, tearing and scanning tickets, checking IDs, directing guests and…',\n",
              "   'title': 'Crew'},\n",
              "  'salary': '',\n",
              "  'summary': 'Ability to effectively multitask as needed, including but not limited to greeting guests, tearing and scanning tickets, checking IDs, directing guests and…',\n",
              "  'title': 'Crew'},\n",
              " {'company': 'San Francisco Art Institute',\n",
              "  'metadata': {'city_state': 'San Francisco, CA',\n",
              "   'company': 'San Francisco Art Institute',\n",
              "   'index': 8,\n",
              "   'salary': 'From $30 an hour',\n",
              "   'summary': '4 year college degree required, Bachelor’s degree from an accredited university in finance, accounting, or a related field, and.',\n",
              "   'title': 'Temporary Accounts Receivable and Student Accounts Cashier'},\n",
              "  'salary': 'From $30 an hour',\n",
              "  'summary': '4 year college degree required, Bachelor’s degree from an accredited university in finance, accounting, or a related field, and.',\n",
              "  'title': 'Temporary Accounts Receivable and Student Accounts Cashier'},\n",
              " {'company': 'AT&T',\n",
              "  'metadata': {'city_state': 'San Francisco, CA',\n",
              "   'company': 'AT&T',\n",
              "   'index': 9,\n",
              "   'salary': '$30.40 an hour ++',\n",
              "   'summary': 'Possess a state driver’s license.Possess a state driver’s license.(All Milestones must be met while you are in good standing, No COBC violations and or…',\n",
              "   'title': 'Installation Technician - $5,000 Sign-On Bonus'},\n",
              "  'salary': '$30.40 an hour ++',\n",
              "  'summary': 'Possess a state driver’s license.Possess a state driver’s license.(All Milestones must be met while you are in good standing, No COBC violations and or…',\n",
              "  'title': 'Installation Technician - $5,000 Sign-On Bonus'}]"
            ]
          },
          "metadata": {
            "tags": []
          },
          "execution_count": 53
        }
      ]
    },
    {
      "cell_type": "code",
      "metadata": {
        "id": "voQQlj4HFeTs"
      },
      "source": [],
      "execution_count": null,
      "outputs": []
    }
  ]
}