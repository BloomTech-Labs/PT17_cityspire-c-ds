{
  "nbformat": 4,
  "nbformat_minor": 0,
  "metadata": {
    "colab": {
      "name": "jobs_count.ipynb",
      "provenance": []
    },
    "kernelspec": {
      "name": "python3",
      "display_name": "Python 3"
    },
    "language_info": {
      "name": "python"
    }
  },
  "cells": [
    {
      "cell_type": "code",
      "metadata": {
        "colab": {
          "base_uri": "https://localhost:8080/"
        },
        "id": "9DwQWQ-ET12s",
        "outputId": "d68a8673-e9a5-49a0-8413-5df68db8dcee"
      },
      "source": [
        "import pandas as pd\n",
        "import numpy as np\n",
        "import psycopg2"
      ],
      "execution_count": 1,
      "outputs": [
        {
          "output_type": "stream",
          "text": [
            "/usr/local/lib/python3.7/dist-packages/psycopg2/__init__.py:144: UserWarning: The psycopg2 wheel package will be renamed from release 2.8; in order to keep installing from binary please use \"pip install psycopg2-binary\" instead. For details see: <http://initd.org/psycopg/docs/install.html#binary-install-from-pypi>.\n",
            "  \"\"\")\n"
          ],
          "name": "stderr"
        }
      ]
    },
    {
      "cell_type": "code",
      "metadata": {
        "id": "4ATyqF-rT7vv"
      },
      "source": [
        "# connection credentials\n",
        "conn = psycopg2.connect(\n",
        "    user = \"postgres\",\n",
        "    password = \"0A96jbvaDJk%\",\n",
        "    host = \"database-cityspire-c.c2uishzxxikl.us-east-1.rds.amazonaws.com\",\n",
        "    port = \"5432\",\n",
        "    database = \"postgres\"\n",
        ")\n",
        "\n",
        "sql = \"SELECT * FROM master_jobs_table\""
      ],
      "execution_count": 2,
      "outputs": []
    },
    {
      "cell_type": "code",
      "metadata": {
        "colab": {
          "base_uri": "https://localhost:8080/",
          "height": 204
        },
        "id": "nxSK3xlRT9xn",
        "outputId": "b03a7c58-78a7-47af-acbb-476e6cdadbdc"
      },
      "source": [
        "# get dataset from postgresql db\n",
        "jobs_df = pd.read_sql(sql, conn)\n",
        "jobs_df.head()"
      ],
      "execution_count": 3,
      "outputs": [
        {
          "output_type": "execute_result",
          "data": {
            "text/html": [
              "<div>\n",
              "<style scoped>\n",
              "    .dataframe tbody tr th:only-of-type {\n",
              "        vertical-align: middle;\n",
              "    }\n",
              "\n",
              "    .dataframe tbody tr th {\n",
              "        vertical-align: top;\n",
              "    }\n",
              "\n",
              "    .dataframe thead th {\n",
              "        text-align: right;\n",
              "    }\n",
              "</style>\n",
              "<table border=\"1\" class=\"dataframe\">\n",
              "  <thead>\n",
              "    <tr style=\"text-align: right;\">\n",
              "      <th></th>\n",
              "      <th>index</th>\n",
              "      <th>city_state</th>\n",
              "      <th>title</th>\n",
              "      <th>company</th>\n",
              "      <th>salary</th>\n",
              "      <th>summary</th>\n",
              "    </tr>\n",
              "  </thead>\n",
              "  <tbody>\n",
              "    <tr>\n",
              "      <th>0</th>\n",
              "      <td>0</td>\n",
              "      <td>Albany, NY</td>\n",
              "      <td>Find jobs with Flexible Hours!</td>\n",
              "      <td>Indeed Gigs</td>\n",
              "      <td></td>\n",
              "      <td>Whether it’s hiring for online work from home,...</td>\n",
              "    </tr>\n",
              "    <tr>\n",
              "      <th>1</th>\n",
              "      <td>1</td>\n",
              "      <td>Albany, NY</td>\n",
              "      <td>Local Hire (Customer Representative - Non-Medi...</td>\n",
              "      <td>US Department of Homeland Security</td>\n",
              "      <td>$16.08 - $18.58 an hour</td>\n",
              "      <td>Experience refers to paid and unpaid experienc...</td>\n",
              "    </tr>\n",
              "    <tr>\n",
              "      <th>2</th>\n",
              "      <td>2</td>\n",
              "      <td>Albany, NY</td>\n",
              "      <td>Amazon Warehouse - Night Shifts, Full-time</td>\n",
              "      <td>Amazon Workforce Staffing</td>\n",
              "      <td>$15.20 an hour</td>\n",
              "      <td>The base pay for this role is $15.20/hr.Get fu...</td>\n",
              "    </tr>\n",
              "    <tr>\n",
              "      <th>3</th>\n",
              "      <td>3</td>\n",
              "      <td>Albany, NY</td>\n",
              "      <td>Bookseller - Part-Time</td>\n",
              "      <td>Barnes &amp; Noble</td>\n",
              "      <td></td>\n",
              "      <td>Ensure all customer transactions are processed...</td>\n",
              "    </tr>\n",
              "    <tr>\n",
              "      <th>4</th>\n",
              "      <td>4</td>\n",
              "      <td>Albany, NY</td>\n",
              "      <td>Crew</td>\n",
              "      <td>Trader Joe's</td>\n",
              "      <td>$16 - $18 an hour</td>\n",
              "      <td>Operating the cash register in a fun and effic...</td>\n",
              "    </tr>\n",
              "  </tbody>\n",
              "</table>\n",
              "</div>"
            ],
            "text/plain": [
              "   index  ...                                            summary\n",
              "0      0  ...  Whether it’s hiring for online work from home,...\n",
              "1      1  ...  Experience refers to paid and unpaid experienc...\n",
              "2      2  ...  The base pay for this role is $15.20/hr.Get fu...\n",
              "3      3  ...  Ensure all customer transactions are processed...\n",
              "4      4  ...  Operating the cash register in a fun and effic...\n",
              "\n",
              "[5 rows x 6 columns]"
            ]
          },
          "metadata": {
            "tags": []
          },
          "execution_count": 3
        }
      ]
    },
    {
      "cell_type": "code",
      "metadata": {
        "id": "Auq1dRu7T_Nf"
      },
      "source": [
        "def get_jobs_count(city_state):\n",
        "  cols = ['index']\n",
        "  jobs_count = jobs_df.loc[jobs_df['city_state'] == city_state, cols].count()\n",
        "  return jobs_count"
      ],
      "execution_count": 15,
      "outputs": []
    },
    {
      "cell_type": "code",
      "metadata": {
        "colab": {
          "base_uri": "https://localhost:8080/"
        },
        "id": "0b0wlFB2UQgQ",
        "outputId": "2d132941-bd82-4481-ec25-6f19af41dbc3"
      },
      "source": [
        "get_jobs_count('San Francisco, CA')"
      ],
      "execution_count": 16,
      "outputs": [
        {
          "output_type": "execute_result",
          "data": {
            "text/plain": [
              "index    1457\n",
              "dtype: int64"
            ]
          },
          "metadata": {
            "tags": []
          },
          "execution_count": 16
        }
      ]
    },
    {
      "cell_type": "code",
      "metadata": {
        "id": "8oQTOBV_UTKG"
      },
      "source": [
        "def get_jobs_count_dict(city_state):\n",
        "  cols = ['index']\n",
        "  jobs_count = jobs_df.loc[jobs_df['city_state'] == city_state, cols].count().to_dict()\n",
        "  return jobs_count"
      ],
      "execution_count": 21,
      "outputs": []
    },
    {
      "cell_type": "code",
      "metadata": {
        "colab": {
          "base_uri": "https://localhost:8080/"
        },
        "id": "3glA_5q3VPfF",
        "outputId": "c00da797-ea02-4795-80b4-b62051bcf53e"
      },
      "source": [
        "get_jobs_count_dict('San Francisco, CA')"
      ],
      "execution_count": 22,
      "outputs": [
        {
          "output_type": "execute_result",
          "data": {
            "text/plain": [
              "{'index': 1457}"
            ]
          },
          "metadata": {
            "tags": []
          },
          "execution_count": 22
        }
      ]
    },
    {
      "cell_type": "code",
      "metadata": {
        "id": "RpT13-WsVTH8"
      },
      "source": [
        ""
      ],
      "execution_count": null,
      "outputs": []
    }
  ]
}