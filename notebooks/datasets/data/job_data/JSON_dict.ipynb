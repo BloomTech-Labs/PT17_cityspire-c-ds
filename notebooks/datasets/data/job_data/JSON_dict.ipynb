{
 "metadata": {
  "language_info": {
   "codemirror_mode": {
    "name": "ipython",
    "version": 3
   },
   "file_extension": ".py",
   "mimetype": "text/x-python",
   "name": "python",
   "nbconvert_exporter": "python",
   "pygments_lexer": "ipython3",
   "version": "3.9.0-final"
  },
  "orig_nbformat": 2,
  "kernelspec": {
   "name": "python3",
   "display_name": "Python 3.9.0 64-bit ('PT17_cityspire-c-ds': pipenv)",
   "metadata": {
    "interpreter": {
     "hash": "3581a0ca1ca71dc088071a58e25797b9532434d187a1133d4937ab6d161eb249"
    }
   }
  }
 },
 "nbformat": 4,
 "nbformat_minor": 2,
 "cells": [
  {
   "cell_type": "code",
   "execution_count": 1,
   "metadata": {},
   "outputs": [],
   "source": [
    "import pandas as pd\n",
    "import numpy as np\n",
    "import psycopg2"
   ]
  },
  {
   "cell_type": "code",
   "execution_count": 3,
   "metadata": {},
   "outputs": [],
   "source": [
    "# connection credentials\n",
    "conn = psycopg2.connect(\n",
    "    user = \"postgres\",\n",
    "    password = \"0A96jbvaDJk%\",\n",
    "    host = \"database-cityspire-c.c2uishzxxikl.us-east-1.rds.amazonaws.com\",\n",
    "    port = \"5432\",\n",
    "    database = \"postgres\"\n",
    ")\n",
    "\n",
    "sql = \"SELECT * FROM master_jobs_table\""
   ]
  },
  {
   "cell_type": "code",
   "execution_count": 4,
   "metadata": {},
   "outputs": [
    {
     "output_type": "execute_result",
     "data": {
      "text/plain": [
       "   index  city_state                                              title  \\\n",
       "0      0  Albany, NY                     Find jobs with Flexible Hours!   \n",
       "1      1  Albany, NY  Local Hire (Customer Representative - Non-Medi...   \n",
       "2      2  Albany, NY         Amazon Warehouse - Night Shifts, Full-time   \n",
       "3      3  Albany, NY                             Bookseller - Part-Time   \n",
       "4      4  Albany, NY                                               Crew   \n",
       "\n",
       "                              company                   salary  \\\n",
       "0                         Indeed Gigs                            \n",
       "1  US Department of Homeland Security  $16.08 - $18.58 an hour   \n",
       "2           Amazon Workforce Staffing           $15.20 an hour   \n",
       "3                      Barnes & Noble                            \n",
       "4                        Trader Joe's        $16 - $18 an hour   \n",
       "\n",
       "                                             summary  \n",
       "0  Whether it’s hiring for online work from home,...  \n",
       "1  Experience refers to paid and unpaid experienc...  \n",
       "2  The base pay for this role is $15.20/hr.Get fu...  \n",
       "3  Ensure all customer transactions are processed...  \n",
       "4  Operating the cash register in a fun and effic...  "
      ],
      "text/html": "<div>\n<style scoped>\n    .dataframe tbody tr th:only-of-type {\n        vertical-align: middle;\n    }\n\n    .dataframe tbody tr th {\n        vertical-align: top;\n    }\n\n    .dataframe thead th {\n        text-align: right;\n    }\n</style>\n<table border=\"1\" class=\"dataframe\">\n  <thead>\n    <tr style=\"text-align: right;\">\n      <th></th>\n      <th>index</th>\n      <th>city_state</th>\n      <th>title</th>\n      <th>company</th>\n      <th>salary</th>\n      <th>summary</th>\n    </tr>\n  </thead>\n  <tbody>\n    <tr>\n      <th>0</th>\n      <td>0</td>\n      <td>Albany, NY</td>\n      <td>Find jobs with Flexible Hours!</td>\n      <td>Indeed Gigs</td>\n      <td></td>\n      <td>Whether it’s hiring for online work from home,...</td>\n    </tr>\n    <tr>\n      <th>1</th>\n      <td>1</td>\n      <td>Albany, NY</td>\n      <td>Local Hire (Customer Representative - Non-Medi...</td>\n      <td>US Department of Homeland Security</td>\n      <td>$16.08 - $18.58 an hour</td>\n      <td>Experience refers to paid and unpaid experienc...</td>\n    </tr>\n    <tr>\n      <th>2</th>\n      <td>2</td>\n      <td>Albany, NY</td>\n      <td>Amazon Warehouse - Night Shifts, Full-time</td>\n      <td>Amazon Workforce Staffing</td>\n      <td>$15.20 an hour</td>\n      <td>The base pay for this role is $15.20/hr.Get fu...</td>\n    </tr>\n    <tr>\n      <th>3</th>\n      <td>3</td>\n      <td>Albany, NY</td>\n      <td>Bookseller - Part-Time</td>\n      <td>Barnes &amp; Noble</td>\n      <td></td>\n      <td>Ensure all customer transactions are processed...</td>\n    </tr>\n    <tr>\n      <th>4</th>\n      <td>4</td>\n      <td>Albany, NY</td>\n      <td>Crew</td>\n      <td>Trader Joe's</td>\n      <td>$16 - $18 an hour</td>\n      <td>Operating the cash register in a fun and effic...</td>\n    </tr>\n  </tbody>\n</table>\n</div>"
     },
     "metadata": {},
     "execution_count": 4
    }
   ],
   "source": [
    "# get dataset from postgresql db\n",
    "jobs_df = pd.read_sql(sql, conn)\n",
    "jobs_df.head()"
   ]
  },
  {
   "cell_type": "code",
   "execution_count": 5,
   "metadata": {},
   "outputs": [
    {
     "output_type": "execute_result",
     "data": {
      "text/plain": [
       "(146787, 6)"
      ]
     },
     "metadata": {},
     "execution_count": 5
    }
   ],
   "source": [
    "jobs_df.shape"
   ]
  },
  {
   "cell_type": "code",
   "execution_count": 6,
   "metadata": {},
   "outputs": [
    {
     "output_type": "execute_result",
     "data": {
      "text/plain": [
       "109"
      ]
     },
     "metadata": {},
     "execution_count": 6
    }
   ],
   "source": [
    "jobs_df['city_state'].nunique()"
   ]
  },
  {
   "cell_type": "code",
   "execution_count": 7,
   "metadata": {},
   "outputs": [
    {
     "output_type": "execute_result",
     "data": {
      "text/plain": [
       "   index  city_state                                              title  \\\n",
       "0      0  Albany, NY                     Find jobs with Flexible Hours!   \n",
       "1      1  Albany, NY  Local Hire (Customer Representative - Non-Medi...   \n",
       "2      2  Albany, NY         Amazon Warehouse - Night Shifts, Full-time   \n",
       "3      3  Albany, NY                             Bookseller - Part-Time   \n",
       "4      4  Albany, NY                                               Crew   \n",
       "\n",
       "                              company                   salary  \\\n",
       "0                         Indeed Gigs                            \n",
       "1  US Department of Homeland Security  $16.08 - $18.58 an hour   \n",
       "2           Amazon Workforce Staffing           $15.20 an hour   \n",
       "3                      Barnes & Noble                            \n",
       "4                        Trader Joe's        $16 - $18 an hour   \n",
       "\n",
       "                                             summary  \\\n",
       "0  Whether it’s hiring for online work from home,...   \n",
       "1  Experience refers to paid and unpaid experienc...   \n",
       "2  The base pay for this role is $15.20/hr.Get fu...   \n",
       "3  Ensure all customer transactions are processed...   \n",
       "4  Operating the cash register in a fun and effic...   \n",
       "\n",
       "                                            metadata  \n",
       "0  {'index': 0, 'city_state': 'Albany, NY', 'titl...  \n",
       "1  {'index': 1, 'city_state': 'Albany, NY', 'titl...  \n",
       "2  {'index': 2, 'city_state': 'Albany, NY', 'titl...  \n",
       "3  {'index': 3, 'city_state': 'Albany, NY', 'titl...  \n",
       "4  {'index': 4, 'city_state': 'Albany, NY', 'titl...  "
      ],
      "text/html": "<div>\n<style scoped>\n    .dataframe tbody tr th:only-of-type {\n        vertical-align: middle;\n    }\n\n    .dataframe tbody tr th {\n        vertical-align: top;\n    }\n\n    .dataframe thead th {\n        text-align: right;\n    }\n</style>\n<table border=\"1\" class=\"dataframe\">\n  <thead>\n    <tr style=\"text-align: right;\">\n      <th></th>\n      <th>index</th>\n      <th>city_state</th>\n      <th>title</th>\n      <th>company</th>\n      <th>salary</th>\n      <th>summary</th>\n      <th>metadata</th>\n    </tr>\n  </thead>\n  <tbody>\n    <tr>\n      <th>0</th>\n      <td>0</td>\n      <td>Albany, NY</td>\n      <td>Find jobs with Flexible Hours!</td>\n      <td>Indeed Gigs</td>\n      <td></td>\n      <td>Whether it’s hiring for online work from home,...</td>\n      <td>{'index': 0, 'city_state': 'Albany, NY', 'titl...</td>\n    </tr>\n    <tr>\n      <th>1</th>\n      <td>1</td>\n      <td>Albany, NY</td>\n      <td>Local Hire (Customer Representative - Non-Medi...</td>\n      <td>US Department of Homeland Security</td>\n      <td>$16.08 - $18.58 an hour</td>\n      <td>Experience refers to paid and unpaid experienc...</td>\n      <td>{'index': 1, 'city_state': 'Albany, NY', 'titl...</td>\n    </tr>\n    <tr>\n      <th>2</th>\n      <td>2</td>\n      <td>Albany, NY</td>\n      <td>Amazon Warehouse - Night Shifts, Full-time</td>\n      <td>Amazon Workforce Staffing</td>\n      <td>$15.20 an hour</td>\n      <td>The base pay for this role is $15.20/hr.Get fu...</td>\n      <td>{'index': 2, 'city_state': 'Albany, NY', 'titl...</td>\n    </tr>\n    <tr>\n      <th>3</th>\n      <td>3</td>\n      <td>Albany, NY</td>\n      <td>Bookseller - Part-Time</td>\n      <td>Barnes &amp; Noble</td>\n      <td></td>\n      <td>Ensure all customer transactions are processed...</td>\n      <td>{'index': 3, 'city_state': 'Albany, NY', 'titl...</td>\n    </tr>\n    <tr>\n      <th>4</th>\n      <td>4</td>\n      <td>Albany, NY</td>\n      <td>Crew</td>\n      <td>Trader Joe's</td>\n      <td>$16 - $18 an hour</td>\n      <td>Operating the cash register in a fun and effic...</td>\n      <td>{'index': 4, 'city_state': 'Albany, NY', 'titl...</td>\n    </tr>\n  </tbody>\n</table>\n</div>"
     },
     "metadata": {},
     "execution_count": 7
    }
   ],
   "source": [
    "columns = [\"index\", \"city_state\", \"title\", \"company\", \"salary\", \"summary\"]\n",
    "jobs_df['metadata'] = jobs_df[columns].to_dict(orient='records')\n",
    "jobs_df.head()"
   ]
  },
  {
   "cell_type": "code",
   "execution_count": 8,
   "metadata": {},
   "outputs": [
    {
     "output_type": "execute_result",
     "data": {
      "text/plain": [
       "0    {'index': 0, 'city_state': 'Albany, NY', 'titl...\n",
       "1    {'index': 1, 'city_state': 'Albany, NY', 'titl...\n",
       "2    {'index': 2, 'city_state': 'Albany, NY', 'titl...\n",
       "3    {'index': 3, 'city_state': 'Albany, NY', 'titl...\n",
       "4    {'index': 4, 'city_state': 'Albany, NY', 'titl...\n",
       "Name: metadata, dtype: object"
      ]
     },
     "metadata": {},
     "execution_count": 8
    }
   ],
   "source": [
    "jobs_df['metadata'].head()"
   ]
  },
  {
   "cell_type": "code",
   "execution_count": 9,
   "metadata": {},
   "outputs": [
    {
     "output_type": "execute_result",
     "data": {
      "text/plain": [
       "{'index': 1,\n",
       " 'city_state': 'Albany, NY',\n",
       " 'title': 'Local Hire (Customer Representative - Non-Medical Vaccine Su...',\n",
       " 'company': 'US Department of Homeland Security',\n",
       " 'salary': '$16.08 - $18.58 an hour',\n",
       " 'summary': 'Experience refers to paid and unpaid experience, including volunteer work done through National Service programs (e.g., Peace Corps, AmeriCorps) and other…'}"
      ]
     },
     "metadata": {},
     "execution_count": 9
    }
   ],
   "source": [
    "jobs_df['metadata'][1]"
   ]
  },
  {
   "cell_type": "code",
   "execution_count": null,
   "metadata": {},
   "outputs": [],
   "source": []
  }
 ]
}