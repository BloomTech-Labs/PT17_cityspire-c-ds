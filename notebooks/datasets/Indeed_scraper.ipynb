{
 "cells": [
  {
   "cell_type": "code",
   "execution_count": 1,
   "metadata": {},
   "outputs": [],
   "source": [
    "import requests\n",
    "from bs4 import BeautifulSoup\n",
    "import pandas as pd"
   ]
  },
  {
   "cell_type": "code",
   "execution_count": 6,
   "metadata": {},
   "outputs": [],
   "source": [
    "def extract(page):\n",
    "  headers = {'User-Agent':'Mozilla/5.0 (Macintosh; Intel Mac OS X 11_2_3) AppleWebKit/537.36 (KHTML, like Gecko) Chrome/89.0.4389.90 Safari/537.36'}\n",
    "  url = f'https://www.indeed.com/jobs?q=&l=Phoenix%2C+AZ&start=0'\n",
    "  r = requests.get(url,headers)\n",
    "  #return r.status_code\n",
    "  soup = BeautifulSoup(r.content,'html.parser')\n",
    "  return soup"
   ]
  },
  {
   "cell_type": "code",
   "execution_count": 3,
   "metadata": {},
   "outputs": [],
   "source": [
    "def transform(soup):\n",
    "  divs = soup.find_all('div', class_ = 'jobsearch-SerpJobCard')\n",
    "  for item in divs:\n",
    "      title = item.find('a').text.strip()\n",
    "      company = item.find('span', class_ = 'company').text.strip()\n",
    "      try:\n",
    "        salary = item.find('span',class_ = 'salaryText').text.strip()\n",
    "      except:\n",
    "        salary = ''\n",
    "      summary = item.find('div',{'class': 'summary'}).text.strip().replace('\\n','')\n",
    "\n",
    "      job = {\n",
    "              'title': title,\n",
    "              'company': company,\n",
    "              'salary': salary,\n",
    "              'summary': summary\n",
    "          \n",
    "      }\n",
    "      joblist.append(job)\n",
    "      \n",
    "  return"
   ]
  },
  {
   "cell_type": "code",
   "execution_count": 7,
   "metadata": {},
   "outputs": [
    {
     "name": "stdout",
     "output_type": "stream",
     "text": [
      "Getting page,0\n",
      "Getting page,20\n",
      "Getting page,40\n",
      "Getting page,60\n",
      "Getting page,80\n",
      "Getting page,100\n",
      "Getting page,120\n",
      "Getting page,140\n",
      "Getting page,160\n",
      "Getting page,180\n",
      "Getting page,200\n",
      "Getting page,220\n",
      "Getting page,240\n",
      "Getting page,260\n",
      "Getting page,280\n",
      "Getting page,300\n",
      "Getting page,320\n",
      "Getting page,340\n",
      "Getting page,360\n",
      "Getting page,380\n",
      "Getting page,400\n",
      "Getting page,420\n",
      "Getting page,440\n",
      "Getting page,460\n",
      "Getting page,480\n",
      "Getting page,500\n",
      "Getting page,520\n",
      "Getting page,540\n",
      "Getting page,560\n",
      "Getting page,580\n",
      "Getting page,600\n",
      "Getting page,620\n",
      "Getting page,640\n",
      "Getting page,660\n",
      "Getting page,680\n",
      "Getting page,700\n",
      "Getting page,720\n",
      "Getting page,740\n",
      "Getting page,760\n",
      "Getting page,780\n",
      "Getting page,800\n",
      "Getting page,820\n",
      "Getting page,840\n",
      "Getting page,860\n",
      "Getting page,880\n",
      "Getting page,900\n",
      "Getting page,920\n",
      "Getting page,940\n",
      "Getting page,960\n",
      "Getting page,980\n",
      "Getting page,1000\n",
      "Getting page,1020\n",
      "Getting page,1040\n",
      "Getting page,1060\n",
      "Getting page,1080\n",
      "Getting page,1100\n",
      "Getting page,1120\n",
      "Getting page,1140\n",
      "Getting page,1160\n",
      "Getting page,1180\n",
      "Getting page,1200\n",
      "Getting page,1220\n",
      "Getting page,1240\n",
      "Getting page,1260\n",
      "Getting page,1280\n",
      "Getting page,1300\n",
      "Getting page,1320\n",
      "Getting page,1340\n",
      "Getting page,1360\n",
      "Getting page,1380\n",
      "Getting page,1400\n",
      "Getting page,1420\n",
      "Getting page,1440\n",
      "Getting page,1460\n",
      "Getting page,1480\n",
      "Getting page,1500\n",
      "Getting page,1520\n",
      "Getting page,1540\n",
      "Getting page,1560\n",
      "Getting page,1580\n",
      "Getting page,1600\n",
      "Getting page,1620\n",
      "Getting page,1640\n",
      "Getting page,1660\n",
      "Getting page,1680\n",
      "Getting page,1700\n",
      "Getting page,1720\n",
      "Getting page,1740\n",
      "Getting page,1760\n",
      "Getting page,1780\n",
      "Getting page,1800\n",
      "Getting page,1820\n",
      "Getting page,1840\n",
      "Getting page,1860\n",
      "Getting page,1880\n"
     ]
    }
   ],
   "source": [
    "joblist = []\n",
    "for i in range(0,1900,20):\n",
    "  print(f'Getting page,{i}')\n",
    "  c = extract(i)\n",
    "  transform(c)"
   ]
  },
  {
   "cell_type": "code",
   "execution_count": 8,
   "metadata": {},
   "outputs": [
    {
     "name": "stdout",
     "output_type": "stream",
     "text": [
      "(0, 0)\n"
     ]
    }
   ],
   "source": [
    "df = pd.DataFrame(joblist)\n",
    "print(df.shape)\n",
    "df.to_csv('phoenix_az_jobs.csv')"
   ]
  },
  {
   "cell_type": "code",
   "execution_count": null,
   "metadata": {},
   "outputs": [],
   "source": []
  }
 ],
 "metadata": {
  "kernelspec": {
   "display_name": "Python 3",
   "language": "python",
   "name": "python3"
  },
  "language_info": {
   "codemirror_mode": {
    "name": "ipython",
    "version": 3
   },
   "file_extension": ".py",
   "mimetype": "text/x-python",
   "name": "python",
   "nbconvert_exporter": "python",
   "pygments_lexer": "ipython3",
   "version": "3.8.3"
  }
 },
 "nbformat": 4,
 "nbformat_minor": 4
}
